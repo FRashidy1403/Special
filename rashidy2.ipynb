{
 "cells": [
  {
   "cell_type": "code",
   "execution_count": 1,
   "id": "8d78835a-f41e-4cc7-8f80-a53df1ffc13c",
   "metadata": {},
   "outputs": [],
   "source": [
    "import numpy as np\n",
    "from scipy import sparse"
   ]
  },
  {
   "cell_type": "code",
   "execution_count": 2,
   "id": "3b3c45cd-4386-4720-867e-0741abd71417",
   "metadata": {},
   "outputs": [
    {
     "name": "stdout",
     "output_type": "stream",
     "text": [
      "<Compressed Sparse Row sparse matrix of dtype 'int64'\n",
      "\twith 2 stored elements and shape (3, 10)>\n",
      "  Coords\tValues\n",
      "  (1, 1)\t1\n",
      "  (2, 0)\t3\n"
     ]
    }
   ],
   "source": [
    "\n",
    "matrix_large = np . array ([[ 0 , 0 , 0 , 0 , 0 , 0 , 0 , 0 , 0 , 0 ],\n",
    "                            [ 0 , 1 , 0 , 0 , 0 , 0 , 0 , 0 , 0 , 0 ],\n",
    "                            [ 3 , 0 , 0 , 0 , 0 , 0 , 0 , 0 , 0 , 0 ]])\n",
    "\n",
    "matrix_large_sparse = sparse . csr_matrix ( matrix_large )\n",
    "# print ( matrix_sparse )\n",
    "print ( matrix_large_sparse )\n"
   ]
  },
  {
   "cell_type": "code",
   "execution_count": 3,
   "id": "77cf0ce1-035e-4c4c-a546-17ee834a72b3",
   "metadata": {},
   "outputs": [
    {
     "name": "stdout",
     "output_type": "stream",
     "text": [
      "3\n",
      "5\n"
     ]
    }
   ],
   "source": [
    "vector = np . array ([ 1 , 2 , 3 , 4 , 5 , 6 ])\n",
    "\n",
    "matrix = np . array ([[ 1 , 2 , 3 ],\n",
    "[ 4 , 5 , 6 ],\n",
    "[ 7 , 8 , 9 ]])\n",
    "\n",
    "print(vector [ 2 ])\n",
    "print(matrix [ 1 , 1 ])"
   ]
  },
  {
   "cell_type": "code",
   "execution_count": 8,
   "id": "e69b0244-eb0a-4c79-9ad9-e970a3797da2",
   "metadata": {},
   "outputs": [
    {
     "name": "stdout",
     "output_type": "stream",
     "text": [
      "[1 2 3 4 5 6]\n",
      "[1 2 3]\n",
      "[4 5 6]\n",
      "6\n",
      "[[1 2 3]\n",
      " [4 5 6]]\n"
     ]
    }
   ],
   "source": [
    "print(vector [:])\n",
    "\n",
    "print(vector [: 3 ])\n",
    "\n",
    "print(vector [ 3 :])\n",
    "\n",
    "print(vector [ - 1 ])\n",
    "print(matrix [: 2 ,:])\n"
   ]
  },
  {
   "cell_type": "code",
   "execution_count": 9,
   "id": "ad4ddc8a-cabd-4991-ac61-b528de9b5835",
   "metadata": {},
   "outputs": [
    {
     "data": {
      "text/plain": [
       "array([[2],\n",
       "       [5],\n",
       "       [8]])"
      ]
     },
     "execution_count": 9,
     "metadata": {},
     "output_type": "execute_result"
    }
   ],
   "source": [
    "matrix [:, 1 : 2 ]"
   ]
  },
  {
   "cell_type": "code",
   "execution_count": 10,
   "id": "ed8bfaa3-3f8e-407d-9ed2-44391c70e875",
   "metadata": {},
   "outputs": [
    {
     "name": "stdout",
     "output_type": "stream",
     "text": [
      "(3, 4)\n",
      "12\n",
      "2\n"
     ]
    }
   ],
   "source": [
    "matrix = np . array ([[ 1 , 2 , 3 , 4 ],\n",
    "                      [ 5 , 6 , 7 , 8 ],\n",
    "                      [ 9 , 10 , 11 , 12 ]])\n",
    "\n",
    "print(matrix . shape)\n",
    "print(matrix . size)\n",
    "print(matrix . ndim)"
   ]
  },
  {
   "cell_type": "code",
   "execution_count": 11,
   "id": "a592567f-458e-4991-8df8-855e4244af7c",
   "metadata": {},
   "outputs": [
    {
     "data": {
      "text/plain": [
       "array([[101, 102, 103],\n",
       "       [104, 105, 106],\n",
       "       [107, 108, 109]])"
      ]
     },
     "execution_count": 11,
     "metadata": {},
     "output_type": "execute_result"
    }
   ],
   "source": [
    "matrix = np . array ([[ 1 , 2 , 3 ],\n",
    "                      [ 4 , 5 , 6 ],\n",
    "                      [ 7 , 8 , 9 ]])\n",
    "add_100 = lambda i : i + 100\n",
    "vectorized_add_100 = np . vectorize ( add_100 )\n",
    "vectorized_add_100 ( matrix )\n"
   ]
  },
  {
   "cell_type": "code",
   "execution_count": 12,
   "id": "b56682de-35c6-43f1-8b3b-989c7f81625f",
   "metadata": {},
   "outputs": [
    {
     "data": {
      "text/plain": [
       "array([[101, 102, 103],\n",
       "       [104, 105, 106],\n",
       "       [107, 108, 109]])"
      ]
     },
     "execution_count": 12,
     "metadata": {},
     "output_type": "execute_result"
    }
   ],
   "source": [
    "matrix + 100"
   ]
  },
  {
   "cell_type": "code",
   "execution_count": 13,
   "id": "815c08fc-0390-43c1-9eda-d1ed4bff4127",
   "metadata": {},
   "outputs": [
    {
     "name": "stdout",
     "output_type": "stream",
     "text": [
      "9\n",
      "1\n"
     ]
    }
   ],
   "source": [
    "matrix = np . array ([[ 1 , 2 , 3 ],\n",
    "                      [ 4 , 5 , 6 ],\n",
    "                      [ 7 , 8 , 9 ]])\n",
    "\n",
    "print(np . max ( matrix ))\n",
    "\n",
    "print(np . min ( matrix ))"
   ]
  },
  {
   "cell_type": "code",
   "execution_count": 14,
   "id": "6defd17a-89e7-42dc-a475-f1264b5ab493",
   "metadata": {},
   "outputs": [
    {
     "name": "stdout",
     "output_type": "stream",
     "text": [
      "[7 8 9]\n",
      "[3 6 9]\n"
     ]
    }
   ],
   "source": [
    "print(np . max ( matrix , axis=0 ))\n",
    "\n",
    "print(np . max ( matrix , axis=1 ))\n"
   ]
  },
  {
   "cell_type": "code",
   "execution_count": 15,
   "id": "8c80c481-fdc3-4de8-b890-f232e1b2a4cd",
   "metadata": {},
   "outputs": [
    {
     "name": "stdout",
     "output_type": "stream",
     "text": [
      "5.0\n",
      "6.666666666666667\n",
      "2.581988897471611\n"
     ]
    }
   ],
   "source": [
    "matrix = np . array ([[ 1 , 2 , 3 ],\n",
    "                      [ 4 , 5 , 6 ],\n",
    "                      [ 7 , 8 , 9 ]])\n",
    "print(np . mean ( matrix ))\n",
    "\n",
    "# Return variance\n",
    "print(np . var ( matrix ))\n",
    "# Return standard deviation\n",
    "print(np . std ( matrix ))"
   ]
  },
  {
   "cell_type": "code",
   "execution_count": 16,
   "id": "61a89d11-822e-4dfa-823f-50d5a4a6444f",
   "metadata": {},
   "outputs": [
    {
     "data": {
      "text/plain": [
       "array([4., 5., 6.])"
      ]
     },
     "execution_count": 16,
     "metadata": {},
     "output_type": "execute_result"
    }
   ],
   "source": [
    "np . mean ( matrix , axis=0 )"
   ]
  },
  {
   "cell_type": "code",
   "execution_count": 18,
   "id": "cc3d7d43-f80d-4a3e-a942-db6eb1b8bac3",
   "metadata": {},
   "outputs": [
    {
     "name": "stdout",
     "output_type": "stream",
     "text": [
      "[[ 1  2  3  4  5  6]\n",
      " [ 7  8  9 10 11 12]]\n"
     ]
    }
   ],
   "source": [
    "matrix = np . array ([[ 1 , 2 , 3 ],\n",
    "                      [ 4 , 5 , 6 ],\n",
    "                      [ 7 , 8 , 9 ],\n",
    "                      [ 10 , 11 , 12 ]])\n",
    "\n",
    "print(matrix . reshape ( 2 , 6 ))"
   ]
  },
  {
   "cell_type": "code",
   "execution_count": 19,
   "id": "448edd98-7756-418c-a6a6-5acddb1afba3",
   "metadata": {},
   "outputs": [
    {
     "data": {
      "text/plain": [
       "12"
      ]
     },
     "execution_count": 19,
     "metadata": {},
     "output_type": "execute_result"
    }
   ],
   "source": [
    "matrix . size"
   ]
  },
  {
   "cell_type": "code",
   "execution_count": 20,
   "id": "72cd7976-74a5-49bc-ad08-f849f3405aab",
   "metadata": {},
   "outputs": [
    {
     "data": {
      "text/plain": [
       "array([[ 1,  2,  3,  4,  5,  6,  7,  8,  9, 10, 11, 12]])"
      ]
     },
     "execution_count": 20,
     "metadata": {},
     "output_type": "execute_result"
    }
   ],
   "source": [
    "matrix . reshape ( 1 , - 1 )"
   ]
  },
  {
   "cell_type": "code",
   "execution_count": 21,
   "id": "156b0e8d-af2e-434f-b5b0-d3bfc76af5a0",
   "metadata": {},
   "outputs": [
    {
     "data": {
      "text/plain": [
       "array([ 1,  2,  3,  4,  5,  6,  7,  8,  9, 10, 11, 12])"
      ]
     },
     "execution_count": 21,
     "metadata": {},
     "output_type": "execute_result"
    }
   ],
   "source": [
    "matrix . reshape ( 12 )"
   ]
  },
  {
   "cell_type": "code",
   "execution_count": 22,
   "id": "cfe4d12e-8341-4bc9-97e6-8cf92a26fcb6",
   "metadata": {},
   "outputs": [
    {
     "data": {
      "text/plain": [
       "array([[1, 4, 7],\n",
       "       [2, 5, 8],\n",
       "       [3, 6, 9]])"
      ]
     },
     "execution_count": 22,
     "metadata": {},
     "output_type": "execute_result"
    }
   ],
   "source": [
    "matrix = np . array ([[ 1 , 2 , 3 ],\n",
    "                      [ 4 , 5 , 6 ],\n",
    "                      [ 7 , 8 , 9 ]])\n",
    "# Transpose matrix\n",
    "matrix . T"
   ]
  },
  {
   "cell_type": "code",
   "execution_count": 23,
   "id": "343867dd-9baa-4027-9f26-f9c3d9c174da",
   "metadata": {},
   "outputs": [
    {
     "data": {
      "text/plain": [
       "array([1, 2, 3, 4, 5, 6])"
      ]
     },
     "execution_count": 23,
     "metadata": {},
     "output_type": "execute_result"
    }
   ],
   "source": [
    "np . array ([ 1 , 2 , 3 , 4 , 5 , 6 ]) . T"
   ]
  },
  {
   "cell_type": "code",
   "execution_count": 24,
   "id": "7b4e8af8-1aad-440b-a0d2-6544ca9fd686",
   "metadata": {},
   "outputs": [
    {
     "data": {
      "text/plain": [
       "array([[1],\n",
       "       [2],\n",
       "       [3],\n",
       "       [4],\n",
       "       [5],\n",
       "       [6]])"
      ]
     },
     "execution_count": 24,
     "metadata": {},
     "output_type": "execute_result"
    }
   ],
   "source": [
    "np . array ([[ 1 , 2 , 3 , 4 , 5 , 6 ]]) . T"
   ]
  },
  {
   "cell_type": "code",
   "execution_count": 25,
   "id": "9ecadd6d-898b-4b47-bc67-5fd42d5123bf",
   "metadata": {},
   "outputs": [
    {
     "data": {
      "text/plain": [
       "array([1, 2, 3, 4, 5, 6, 7, 8, 9])"
      ]
     },
     "execution_count": 25,
     "metadata": {},
     "output_type": "execute_result"
    }
   ],
   "source": [
    "matrix = np . array ([[ 1 , 2 , 3 ],\n",
    "                      [ 4 , 5 , 6 ],\n",
    "                      [ 7 , 8 , 9 ]])\n",
    "# Flatten matrix\n",
    "matrix . flatten ()"
   ]
  },
  {
   "cell_type": "code",
   "execution_count": 26,
   "id": "86ec5875-86c3-427a-8095-19a1f9fee50c",
   "metadata": {},
   "outputs": [
    {
     "data": {
      "text/plain": [
       "array([[1, 2, 3, 4, 5, 6, 7, 8, 9]])"
      ]
     },
     "execution_count": 26,
     "metadata": {},
     "output_type": "execute_result"
    }
   ],
   "source": [
    "matrix . reshape ( 1 , - 1 )"
   ]
  },
  {
   "cell_type": "code",
   "execution_count": 27,
   "id": "2fc5253c-6675-4f3b-9df5-061621d13859",
   "metadata": {},
   "outputs": [
    {
     "name": "stdout",
     "output_type": "stream",
     "text": [
      "2\n"
     ]
    }
   ],
   "source": [
    "matrix = np . array ([[ 1 , 1 , 1 ],\n",
    "                      [ 1 , 1 , 10 ],\n",
    "                      [ 1 , 1 , 15 ]])\n",
    "\n",
    "print(np . linalg . matrix_rank ( matrix ))"
   ]
  },
  {
   "cell_type": "code",
   "execution_count": 28,
   "id": "074ada94-89c9-47ff-bcb9-6ce8383f59c4",
   "metadata": {},
   "outputs": [
    {
     "name": "stdout",
     "output_type": "stream",
     "text": [
      "0.0\n"
     ]
    }
   ],
   "source": [
    "matrix = np . array ([[ 1 , 2 , 3 ],\n",
    "                      [ 2 , 4 , 6 ],\n",
    "                      [ 3 , 8 , 9 ]])\n",
    "print(np . linalg . det ( matrix ))"
   ]
  },
  {
   "cell_type": "code",
   "execution_count": 29,
   "id": "b4bf26d0-db65-4cb4-99c2-4543fd7e9805",
   "metadata": {},
   "outputs": [
    {
     "name": "stdout",
     "output_type": "stream",
     "text": [
      "[1 4 9]\n"
     ]
    }
   ],
   "source": [
    "matrix = np . array ([[ 1 , 2 , 3 ],\n",
    "                      [ 2 , 4 , 6 ],\n",
    "                      [ 3 , 8 , 9 ]])\n",
    "\n",
    "print(matrix . diagonal ())"
   ]
  },
  {
   "cell_type": "code",
   "execution_count": 31,
   "id": "2643d16f-8a8e-4427-ac97-99a19adea07b",
   "metadata": {},
   "outputs": [
    {
     "name": "stdout",
     "output_type": "stream",
     "text": [
      "[2 8]\n"
     ]
    }
   ],
   "source": [
    "matrix . diagonal ( offset=1 )\n",
    "\n",
    "print(matrix . diagonal ( offset=- 1 ))"
   ]
  },
  {
   "cell_type": "code",
   "execution_count": null,
   "id": "1056eb9e-feb7-4b9a-a7d5-145918130986",
   "metadata": {},
   "outputs": [],
   "source": []
  },
  {
   "cell_type": "code",
   "execution_count": null,
   "id": "d19f0d36-6503-4718-b5ad-b70957019a3b",
   "metadata": {},
   "outputs": [],
   "source": []
  },
  {
   "cell_type": "code",
   "execution_count": 32,
   "id": "c3d894cd-077e-489c-a8e8-a5ec3abb4712",
   "metadata": {},
   "outputs": [
    {
     "name": "stdout",
     "output_type": "stream",
     "text": [
      "14\n"
     ]
    }
   ],
   "source": [
    "matrix = np . array ([[ 1 , 2 , 3 ],\n",
    "                      [ 2 , 4 , 6 ],\n",
    "                      [ 3 , 8 , 9 ]])\n",
    "\n",
    "print(matrix . trace ())"
   ]
  },
  {
   "cell_type": "code",
   "execution_count": 34,
   "id": "d586a37d-1b85-42f0-97ef-8fee0db06c4f",
   "metadata": {},
   "outputs": [
    {
     "name": "stdout",
     "output_type": "stream",
     "text": [
      "14\n"
     ]
    }
   ],
   "source": [
    "print(sum ( matrix . diagonal ()))"
   ]
  },
  {
   "cell_type": "code",
   "execution_count": null,
   "id": "738a8da4-4c18-4ebb-8940-b10ab8bc1402",
   "metadata": {},
   "outputs": [],
   "source": []
  },
  {
   "cell_type": "code",
   "execution_count": null,
   "id": "dc19fdf6-017a-4b01-bb94-874ce77f5d47",
   "metadata": {},
   "outputs": [],
   "source": []
  },
  {
   "cell_type": "code",
   "execution_count": null,
   "id": "936af980-0f98-461b-9000-6d7f7088bbdb",
   "metadata": {},
   "outputs": [],
   "source": []
  },
  {
   "cell_type": "code",
   "execution_count": 35,
   "id": "69db0a41-9205-4e03-b414-f35a46a9966d",
   "metadata": {},
   "outputs": [
    {
     "name": "stdout",
     "output_type": "stream",
     "text": [
      "32\n"
     ]
    }
   ],
   "source": [
    "vector_a = np . array ([ 1 , 2 , 3 ])\n",
    "vector_b = np . array ([ 4 , 5 , 6 ])\n",
    "# Calculate dot product\n",
    "print(np . dot ( vector_a , vector_b ))"
   ]
  },
  {
   "cell_type": "code",
   "execution_count": 36,
   "id": "daf4fcdb-b774-496d-b30f-c451f97f24b8",
   "metadata": {},
   "outputs": [
    {
     "name": "stdout",
     "output_type": "stream",
     "text": [
      "32\n"
     ]
    }
   ],
   "source": [
    "print(vector_a @ vector_b)"
   ]
  },
  {
   "cell_type": "code",
   "execution_count": 37,
   "id": "a522b463-fb27-44c6-8ed7-c30da03e0621",
   "metadata": {},
   "outputs": [
    {
     "name": "stdout",
     "output_type": "stream",
     "text": [
      "[[ 2  4  2]\n",
      " [ 2  4  2]\n",
      " [ 2  4 10]]\n",
      "[[ 0 -2  0]\n",
      " [ 0 -2  0]\n",
      " [ 0 -2 -6]]\n"
     ]
    }
   ],
   "source": [
    "matrix_a = np . array ([[ 1 , 1 , 1 ],\n",
    "                        [ 1 , 1 , 1 ],\n",
    "                        [ 1 , 1 , 2 ]])\n",
    "# Create matrix\n",
    "matrix_b = np . array ([[ 1 , 3 , 1 ],\n",
    "                        [ 1 , 3 , 1 ],\n",
    "                        [ 1 , 3 , 8 ]])\n",
    "# Add two matrices\n",
    "print(np . add ( matrix_a , matrix_b ))\n",
    "print(np . subtract ( matrix_a , matrix_b ))"
   ]
  },
  {
   "cell_type": "code",
   "execution_count": 38,
   "id": "d9c5740c-1408-4ef5-9eed-1d534d011283",
   "metadata": {},
   "outputs": [
    {
     "data": {
      "text/plain": [
       "array([[ 2,  4,  2],\n",
       "       [ 2,  4,  2],\n",
       "       [ 2,  4, 10]])"
      ]
     },
     "execution_count": 38,
     "metadata": {},
     "output_type": "execute_result"
    }
   ],
   "source": [
    "matrix_a + matrix_b"
   ]
  },
  {
   "cell_type": "code",
   "execution_count": 39,
   "id": "cf010bda-bb61-4107-a6cb-92c3f3421f17",
   "metadata": {},
   "outputs": [
    {
     "name": "stdout",
     "output_type": "stream",
     "text": [
      "[[2 5]\n",
      " [3 7]]\n"
     ]
    }
   ],
   "source": [
    "matrix_a = np . array ([[ 1 , 1 ],\n",
    "                        [ 1 , 2 ]])\n",
    "# Create matrix\n",
    "matrix_b = np . array ([[ 1 , 3 ],\n",
    "                        [ 1 , 2 ]])\n",
    "# Multiply two matrices\n",
    "print(np . dot ( matrix_a , matrix_b ))\n"
   ]
  },
  {
   "cell_type": "code",
   "execution_count": 40,
   "id": "f8a671b1-0fe2-40bc-ac0f-f554b426d642",
   "metadata": {},
   "outputs": [
    {
     "data": {
      "text/plain": [
       "array([[2, 5],\n",
       "       [3, 7]])"
      ]
     },
     "execution_count": 40,
     "metadata": {},
     "output_type": "execute_result"
    }
   ],
   "source": [
    "matrix_a @ matrix_b"
   ]
  },
  {
   "cell_type": "code",
   "execution_count": 41,
   "id": "62023219-8df6-4f8f-a126-fa4a76c05124",
   "metadata": {},
   "outputs": [
    {
     "data": {
      "text/plain": [
       "array([[1, 3],\n",
       "       [1, 4]])"
      ]
     },
     "execution_count": 41,
     "metadata": {},
     "output_type": "execute_result"
    }
   ],
   "source": [
    "matrix_a * matrix_b"
   ]
  },
  {
   "cell_type": "code",
   "execution_count": null,
   "id": "7f71aa88-1042-49c6-8599-1f270a8ad781",
   "metadata": {},
   "outputs": [],
   "source": []
  }
 ],
 "metadata": {
  "kernelspec": {
   "display_name": "Python 3 (ipykernel)",
   "language": "python",
   "name": "python3"
  },
  "language_info": {
   "codemirror_mode": {
    "name": "ipython",
    "version": 3
   },
   "file_extension": ".py",
   "mimetype": "text/x-python",
   "name": "python",
   "nbconvert_exporter": "python",
   "pygments_lexer": "ipython3",
   "version": "3.10.7"
  }
 },
 "nbformat": 4,
 "nbformat_minor": 5
}
