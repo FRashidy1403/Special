{
  "nbformat": 4,
  "nbformat_minor": 0,
  "metadata": {
    "colab": {
      "provenance": [],
      "authorship_tag": "ABX9TyNnSy8962wQUqNFBTscuHZH",
      "include_colab_link": true
    },
    "kernelspec": {
      "name": "python3",
      "display_name": "Python 3"
    },
    "language_info": {
      "name": "python"
    }
  },
  "cells": [
    {
      "cell_type": "markdown",
      "metadata": {
        "id": "view-in-github",
        "colab_type": "text"
      },
      "source": [
        "<a href=\"https://colab.research.google.com/github/FRashidy1403/Special/blob/main/chapter13_1.ipynb\" target=\"_parent\"><img src=\"https://colab.research.google.com/assets/colab-badge.svg\" alt=\"Open In Colab\"/></a>"
      ]
    },
    {
      "cell_type": "markdown",
      "source": [
        "# 13.1"
      ],
      "metadata": {
        "id": "ETYHGwYUe3Ae"
      }
    },
    {
      "cell_type": "code",
      "source": [
        "from sklearn.linear_model import LinearRegression\n",
        "from sklearn.datasets import make_regression\n",
        "# Generate features matrix, target vector\n",
        "features , target = make_regression ( n_samples = 100 ,\n",
        "n_features = 3 ,\n",
        "n_informative = 2 ,\n",
        "n_targets = 1 ,\n",
        "noise = 0.2 ,\n",
        "coef = False ,\n",
        "random_state = 1 )\n",
        "# Create linear regression\n",
        "regression = LinearRegression ()\n",
        "# Fit the linear regression\n",
        "model = regression . fit ( features , target )"
      ],
      "metadata": {
        "id": "eFG3IsO4e0ce"
      },
      "execution_count": 1,
      "outputs": []
    },
    {
      "cell_type": "code",
      "source": [
        "model . intercept_"
      ],
      "metadata": {
        "colab": {
          "base_uri": "https://localhost:8080/"
        },
        "id": "E_vXsY47ez3u",
        "outputId": "8e9c8325-49ac-47a4-c1a8-cc66bdd174a0"
      },
      "execution_count": 2,
      "outputs": [
        {
          "output_type": "execute_result",
          "data": {
            "text/plain": [
              "np.float64(-0.009650118178816669)"
            ]
          },
          "metadata": {},
          "execution_count": 2
        }
      ]
    },
    {
      "cell_type": "code",
      "source": [
        "model . coef_"
      ],
      "metadata": {
        "id": "bvM-zNKGfCNk",
        "colab": {
          "base_uri": "https://localhost:8080/"
        },
        "outputId": "8b4a932f-12d1-48f5-b70f-75769ad32c0f"
      },
      "execution_count": 3,
      "outputs": [
        {
          "output_type": "execute_result",
          "data": {
            "text/plain": [
              "array([1.95531234e-02, 4.42087450e+01, 5.81494563e+01])"
            ]
          },
          "metadata": {},
          "execution_count": 3
        }
      ]
    },
    {
      "cell_type": "code",
      "source": [
        "target [ 0 ]"
      ],
      "metadata": {
        "id": "X6nvE4ZnfCDN",
        "colab": {
          "base_uri": "https://localhost:8080/"
        },
        "outputId": "5cc3149b-9222-4a0e-931f-95ac10dd5d00"
      },
      "execution_count": 4,
      "outputs": [
        {
          "output_type": "execute_result",
          "data": {
            "text/plain": [
              "np.float64(-20.870747595269407)"
            ]
          },
          "metadata": {},
          "execution_count": 4
        }
      ]
    },
    {
      "cell_type": "code",
      "source": [
        "model . predict ( features )[ 0 ]"
      ],
      "metadata": {
        "id": "TRLg_LCYfOr-",
        "colab": {
          "base_uri": "https://localhost:8080/"
        },
        "outputId": "83cfced1-3533-4fc1-9800-909b853b5f7e"
      },
      "execution_count": 6,
      "outputs": [
        {
          "output_type": "execute_result",
          "data": {
            "text/plain": [
              "np.float64(-20.861927709296808)"
            ]
          },
          "metadata": {},
          "execution_count": 6
        }
      ]
    },
    {
      "cell_type": "markdown",
      "source": [
        "# 13.2"
      ],
      "metadata": {
        "id": "0OpsRhpMfYJF"
      }
    },
    {
      "cell_type": "code",
      "source": [
        "from sklearn.linear_model import LinearRegression\n",
        "from sklearn.preprocessing import PolynomialFeatures\n",
        "from sklearn.datasets import make_regression\n",
        "# Generate features matrix, target vector\n",
        "features , target = make_regression ( n_samples = 100 ,\n",
        "n_features = 2 ,\n",
        "n_informative = 2 ,\n",
        "n_targets = 1 ,\n",
        "noise = 0.2 ,\n",
        "coef = False ,\n",
        "random_state = 1 )\n",
        "# Create interaction term\n",
        "interaction = PolynomialFeatures (\n",
        "degree=3 , include_bias=False , interaction_only=True )\n",
        "features_interaction = interaction . fit_transform ( features )\n",
        "# Create linear regression\n",
        "regression = LinearRegression ()\n",
        "# Fit the linear regression\n",
        "model = regression . fit ( features_interaction , target )"
      ],
      "metadata": {
        "id": "4cgGpIxufaf8"
      },
      "execution_count": 7,
      "outputs": []
    },
    {
      "cell_type": "code",
      "source": [
        "features [ 0 ]"
      ],
      "metadata": {
        "id": "o0oawzGYfuKO",
        "colab": {
          "base_uri": "https://localhost:8080/"
        },
        "outputId": "695b133a-f1cb-4f3a-c7e6-86e34e2687f2"
      },
      "execution_count": 8,
      "outputs": [
        {
          "output_type": "execute_result",
          "data": {
            "text/plain": [
              "array([0.0465673 , 0.80186103])"
            ]
          },
          "metadata": {},
          "execution_count": 8
        }
      ]
    },
    {
      "cell_type": "code",
      "source": [
        "# Import library\n",
        "import numpy as np\n",
        "# For each observation, multiply the values of the first and second feature\n",
        "interaction_term = np . multiply ( features [:, 0 ], features [:, 1 ])\n",
        "# We can then view the interaction term for the first observation:\n",
        "# View interaction term for first observation\n",
        "interaction_term [ 0 ]"
      ],
      "metadata": {
        "id": "4xy3LVzxfzD8",
        "colab": {
          "base_uri": "https://localhost:8080/"
        },
        "outputId": "85c85603-0636-4ddc-c3f8-f3b68ad7b146"
      },
      "execution_count": 10,
      "outputs": [
        {
          "output_type": "execute_result",
          "data": {
            "text/plain": [
              "np.float64(0.037340501965846186)"
            ]
          },
          "metadata": {},
          "execution_count": 10
        }
      ]
    },
    {
      "cell_type": "code",
      "source": [
        "features_interaction [ 0 ]"
      ],
      "metadata": {
        "id": "NlQGy__Jf7e2",
        "colab": {
          "base_uri": "https://localhost:8080/"
        },
        "outputId": "96d73d8d-a7f2-4fbc-b107-ce200324874f"
      },
      "execution_count": 11,
      "outputs": [
        {
          "output_type": "execute_result",
          "data": {
            "text/plain": [
              "array([0.0465673 , 0.80186103, 0.0373405 ])"
            ]
          },
          "metadata": {},
          "execution_count": 11
        }
      ]
    },
    {
      "cell_type": "markdown",
      "source": [
        "# 13.3"
      ],
      "metadata": {
        "id": "Voup0Zjnp5pn"
      }
    },
    {
      "cell_type": "code",
      "source": [
        "from sklearn.linear_model import LinearRegression\n",
        "from sklearn.preprocessing import PolynomialFeatures\n",
        "from sklearn.datasets import make_regression\n",
        "# Generate features matrix, target vector\n",
        "features , target = make_regression ( n_samples = 100 ,\n",
        "n_features = 3 ,\n",
        "n_informative = 2 ,\n",
        "n_targets = 1 ,\n",
        "noise = 0.2 ,\n",
        "coef = False ,\n",
        "random_state = 1 )\n",
        "# Create polynomial features x^2 and x^3\n",
        "polynomial = PolynomialFeatures ( degree=3 , include_bias=False )\n",
        "features_polynomial = polynomial . fit_transform ( features )\n",
        "# Create linear regression\n",
        "regression = LinearRegression ()\n",
        "# Fit the linear regression\n",
        "model = regression . fit ( features_polynomial , target )\n"
      ],
      "metadata": {
        "id": "EUznc-yvqMwU"
      },
      "execution_count": 12,
      "outputs": []
    },
    {
      "cell_type": "code",
      "source": [
        "features [ 0 ]"
      ],
      "metadata": {
        "id": "Fjuos8rqqgtM",
        "colab": {
          "base_uri": "https://localhost:8080/"
        },
        "outputId": "23197453-2977-4a9e-f933-7d59745528a3"
      },
      "execution_count": 13,
      "outputs": [
        {
          "output_type": "execute_result",
          "data": {
            "text/plain": [
              "array([ 0.58591043,  0.78477065, -0.95542526])"
            ]
          },
          "metadata": {},
          "execution_count": 13
        }
      ]
    },
    {
      "cell_type": "code",
      "source": [
        "features [ 0 ] **2"
      ],
      "metadata": {
        "id": "VGmTf5jjqk__",
        "colab": {
          "base_uri": "https://localhost:8080/"
        },
        "outputId": "c4363a5e-8dbc-4d43-e7e6-3ba0b1670d2d"
      },
      "execution_count": 14,
      "outputs": [
        {
          "output_type": "execute_result",
          "data": {
            "text/plain": [
              "array([0.34329103, 0.61586497, 0.91283743])"
            ]
          },
          "metadata": {},
          "execution_count": 14
        }
      ]
    },
    {
      "cell_type": "code",
      "source": [
        "features [ 0 ] **3"
      ],
      "metadata": {
        "id": "xMBz_w7zqmwd",
        "colab": {
          "base_uri": "https://localhost:8080/"
        },
        "outputId": "13b9bd39-0bdc-42b0-f1fb-0781b57c5f70"
      },
      "execution_count": 15,
      "outputs": [
        {
          "output_type": "execute_result",
          "data": {
            "text/plain": [
              "array([ 0.2011378 ,  0.48331276, -0.87214794])"
            ]
          },
          "metadata": {},
          "execution_count": 15
        }
      ]
    },
    {
      "cell_type": "code",
      "source": [
        "features_polynomial [ 0 ]"
      ],
      "metadata": {
        "id": "FUUSI2veqvM2",
        "colab": {
          "base_uri": "https://localhost:8080/"
        },
        "outputId": "8272f1ad-5720-4e24-d82b-9891a3dd1d9d"
      },
      "execution_count": 16,
      "outputs": [
        {
          "output_type": "execute_result",
          "data": {
            "text/plain": [
              "array([ 0.58591043,  0.78477065, -0.95542526,  0.34329103,  0.45980531,\n",
              "       -0.55979363,  0.61586497, -0.74978971,  0.91283743,  0.2011378 ,\n",
              "        0.26940473, -0.32798893,  0.36084171, -0.43930961,  0.53484097,\n",
              "        0.48331276, -0.58841296,  0.71636803, -0.87214794])"
            ]
          },
          "metadata": {},
          "execution_count": 16
        }
      ]
    },
    {
      "cell_type": "markdown",
      "source": [
        "# 13.4"
      ],
      "metadata": {
        "id": "EeaSXq7Oq6FU"
      }
    },
    {
      "cell_type": "code",
      "source": [
        "from sklearn.linear_model import Ridge\n",
        "from sklearn.preprocessing import StandardScaler\n",
        "from sklearn.datasets import make_regression\n",
        "# Generate features matrix, target vector\n",
        "features , target = make_regression ( n_samples = 100 ,\n",
        "n_features = 3 ,\n",
        "n_informative = 2 ,\n",
        "n_targets = 1 ,\n",
        "noise = 0.2 ,\n",
        "coef = False ,\n",
        "random_state = 1 )\n",
        "# Standardize features\n",
        "scaler = StandardScaler ()\n",
        "features_standardized = scaler . fit_transform ( features )"
      ],
      "metadata": {
        "id": "f4iCj--Qq8et"
      },
      "execution_count": 17,
      "outputs": []
    },
    {
      "cell_type": "code",
      "source": [
        "# Create ridge regression with an alpha value\n",
        "regression = Ridge ( alpha=0.5 )\n",
        "# Fit the linear regression\n",
        "model = regression . fit ( features_standardized , target )"
      ],
      "metadata": {
        "id": "wFNJGTdGrNX5"
      },
      "execution_count": 18,
      "outputs": []
    },
    {
      "cell_type": "code",
      "source": [
        "# Load library\n",
        "from sklearn.linear_model import RidgeCV\n",
        "# Create ridge regression with three alpha values\n",
        "regr_cv = RidgeCV ( alphas= [ 0.1 , 1.0 , 10.0 ])\n",
        "# Fit the linear regression\n",
        "model_cv = regr_cv . fit ( features_standardized , target )\n",
        "# View coefficients\n",
        "model_cv . coef_"
      ],
      "metadata": {
        "id": "KnZpZbEGrYPi",
        "colab": {
          "base_uri": "https://localhost:8080/"
        },
        "outputId": "f7474e8e-278c-4d99-9791-760e7794a230"
      },
      "execution_count": 19,
      "outputs": [
        {
          "output_type": "execute_result",
          "data": {
            "text/plain": [
              "array([1.29223201e-02, 4.40972291e+01, 5.38979372e+01])"
            ]
          },
          "metadata": {},
          "execution_count": 19
        }
      ]
    },
    {
      "cell_type": "code",
      "source": [
        "model_cv . alpha_"
      ],
      "metadata": {
        "id": "wDt-p6YsrfD6",
        "colab": {
          "base_uri": "https://localhost:8080/"
        },
        "outputId": "2db57afe-0519-44a3-810c-2a4c4ecbb216"
      },
      "execution_count": 20,
      "outputs": [
        {
          "output_type": "execute_result",
          "data": {
            "text/plain": [
              "np.float64(0.1)"
            ]
          },
          "metadata": {},
          "execution_count": 20
        }
      ]
    },
    {
      "cell_type": "markdown",
      "source": [
        "# 13.5"
      ],
      "metadata": {
        "id": "vS-wNAIErpkE"
      }
    },
    {
      "cell_type": "code",
      "source": [
        "# Load library\n",
        "from sklearn.linear_model import Lasso\n",
        "from sklearn.preprocessing import StandardScaler\n",
        "from sklearn.datasets import make_regression\n",
        "# Generate features matrix, target vector\n",
        "features , target = make_regression ( n_samples = 100 ,\n",
        "n_features = 3 ,\n",
        "n_informative = 2 ,\n",
        "n_targets = 1 ,\n",
        "noise = 0.2 ,\n",
        "coef = False ,\n",
        "random_state = 1 )\n",
        "# Standardize features\n",
        "scaler = StandardScaler ()\n",
        "features_standardized = scaler . fit_transform ( features )"
      ],
      "metadata": {
        "id": "ToywkUaYrsyB"
      },
      "execution_count": 21,
      "outputs": []
    },
    {
      "cell_type": "code",
      "source": [
        "# Create lasso regression with alpha value\n",
        "regression = Lasso ( alpha=0.5 )\n",
        "# Fit the linear regression\n",
        "model = regression . fit ( features_standardized , target )"
      ],
      "metadata": {
        "id": "Sbyp0kPLr6Or"
      },
      "execution_count": 22,
      "outputs": []
    },
    {
      "cell_type": "code",
      "source": [
        "model . coef_"
      ],
      "metadata": {
        "id": "LR4R8Pv7r-8X",
        "colab": {
          "base_uri": "https://localhost:8080/"
        },
        "outputId": "cac867bc-df42-4817-ce9b-0e1b7d6006a7"
      },
      "execution_count": 23,
      "outputs": [
        {
          "output_type": "execute_result",
          "data": {
            "text/plain": [
              "array([-0.        , 43.58618393, 53.39523724])"
            ]
          },
          "metadata": {},
          "execution_count": 23
        }
      ]
    },
    {
      "cell_type": "code",
      "source": [
        "# Create lasso regression with a high alpha\n",
        "regression_a10 = Lasso ( alpha=10 )\n",
        "model_a10 = regression_a10 . fit ( features_standardized , target )\n",
        "model_a10 . coef_"
      ],
      "metadata": {
        "id": "x04aLEuFsEX1",
        "colab": {
          "base_uri": "https://localhost:8080/"
        },
        "outputId": "d83d42db-9af7-4753-f286-a9dafe61e3d6"
      },
      "execution_count": 24,
      "outputs": [
        {
          "output_type": "execute_result",
          "data": {
            "text/plain": [
              "array([-0.        , 32.92181899, 42.73086731])"
            ]
          },
          "metadata": {},
          "execution_count": 24
        }
      ]
    },
    {
      "cell_type": "code",
      "source": [],
      "metadata": {
        "id": "XGM3ah3EdqRM"
      },
      "execution_count": null,
      "outputs": []
    }
  ]
}